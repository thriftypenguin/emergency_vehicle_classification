{
 "cells": [
  {
   "cell_type": "code",
   "execution_count": 66,
   "metadata": {
    "tags": []
   },
   "outputs": [],
   "source": [
    "import librosa\n",
    "import pandas as pd\n",
    "import numpy as np\n",
    "import scipy.io.wavfile as wav\n",
    "import os\n",
    "import csv\n",
    "import warnings\n",
    "from sklearn.model_selection import train_test_split\n",
    "from tensorflow.keras import initializers\n",
    "warnings.filterwarnings('ignore')\n",
    "import tensorflow as tf\n",
    "import matplotlib.pyplot as plt\n",
    "from tensorflow.keras import models, layers\n",
    "import seaborn as sns\n",
    "from sklearn.metrics import confusion_matrix, precision_score, recall_score, f1_score, classification_report, precision_recall_curve, average_precision_score"
   ]
  },
  {
   "cell_type": "code",
   "execution_count": 43,
   "metadata": {
    "tags": []
   },
   "outputs": [
    {
     "data": {
      "text/html": [
       "<div>\n",
       "<style scoped>\n",
       "    .dataframe tbody tr th:only-of-type {\n",
       "        vertical-align: middle;\n",
       "    }\n",
       "\n",
       "    .dataframe tbody tr th {\n",
       "        vertical-align: top;\n",
       "    }\n",
       "\n",
       "    .dataframe thead th {\n",
       "        text-align: right;\n",
       "    }\n",
       "</style>\n",
       "<table border=\"1\" class=\"dataframe\">\n",
       "  <thead>\n",
       "    <tr style=\"text-align: right;\">\n",
       "      <th></th>\n",
       "      <th>file_name</th>\n",
       "      <th>features</th>\n",
       "      <th>labels</th>\n",
       "    </tr>\n",
       "  </thead>\n",
       "  <tbody>\n",
       "    <tr>\n",
       "      <th>0</th>\n",
       "      <td>ambulance864.wav</td>\n",
       "      <td>[[-219.48415, -196.20642, -198.86726, -203.495...</td>\n",
       "      <td>1</td>\n",
       "    </tr>\n",
       "    <tr>\n",
       "      <th>1</th>\n",
       "      <td>ambulance870.wav</td>\n",
       "      <td>[[-83.18829, -77.74606, -84.38651, -91.4631, -...</td>\n",
       "      <td>1</td>\n",
       "    </tr>\n",
       "    <tr>\n",
       "      <th>2</th>\n",
       "      <td>ambulance858.wav</td>\n",
       "      <td>[[-73.516685, -30.55424, -26.619394, -29.97802...</td>\n",
       "      <td>1</td>\n",
       "    </tr>\n",
       "    <tr>\n",
       "      <th>3</th>\n",
       "      <td>ambulance680.wav</td>\n",
       "      <td>[[-236.11478, -160.4977, -148.80777, -159.0704...</td>\n",
       "      <td>1</td>\n",
       "    </tr>\n",
       "    <tr>\n",
       "      <th>4</th>\n",
       "      <td>ambulance694.wav</td>\n",
       "      <td>[[-222.50467, -153.08594, -139.94177, -141.414...</td>\n",
       "      <td>1</td>\n",
       "    </tr>\n",
       "    <tr>\n",
       "      <th>...</th>\n",
       "      <td>...</td>\n",
       "      <td>...</td>\n",
       "      <td>...</td>\n",
       "    </tr>\n",
       "    <tr>\n",
       "      <th>927</th>\n",
       "      <td>ambulance666.wav</td>\n",
       "      <td>[[-235.98105, -172.26976, -161.74927, -150.718...</td>\n",
       "      <td>1</td>\n",
       "    </tr>\n",
       "    <tr>\n",
       "      <th>928</th>\n",
       "      <td>ambulance855.wav</td>\n",
       "      <td>[[-415.58374, -376.13367, -371.98495, -381.375...</td>\n",
       "      <td>1</td>\n",
       "    </tr>\n",
       "    <tr>\n",
       "      <th>929</th>\n",
       "      <td>ambulance699.wav</td>\n",
       "      <td>[[-158.60631, -90.503716, -79.48663, -82.77847...</td>\n",
       "      <td>1</td>\n",
       "    </tr>\n",
       "    <tr>\n",
       "      <th>930</th>\n",
       "      <td>ambulance841.wav</td>\n",
       "      <td>[[-162.4736, -131.72069, -138.96619, -142.9946...</td>\n",
       "      <td>1</td>\n",
       "    </tr>\n",
       "    <tr>\n",
       "      <th>931</th>\n",
       "      <td>ambulance869.wav</td>\n",
       "      <td>[[-48.581665, -70.06544, -109.23434, -109.2458...</td>\n",
       "      <td>1</td>\n",
       "    </tr>\n",
       "  </tbody>\n",
       "</table>\n",
       "<p>932 rows × 3 columns</p>\n",
       "</div>"
      ],
      "text/plain": [
       "            file_name                                           features  \\\n",
       "0    ambulance864.wav  [[-219.48415, -196.20642, -198.86726, -203.495...   \n",
       "1    ambulance870.wav  [[-83.18829, -77.74606, -84.38651, -91.4631, -...   \n",
       "2    ambulance858.wav  [[-73.516685, -30.55424, -26.619394, -29.97802...   \n",
       "3    ambulance680.wav  [[-236.11478, -160.4977, -148.80777, -159.0704...   \n",
       "4    ambulance694.wav  [[-222.50467, -153.08594, -139.94177, -141.414...   \n",
       "..                ...                                                ...   \n",
       "927  ambulance666.wav  [[-235.98105, -172.26976, -161.74927, -150.718...   \n",
       "928  ambulance855.wav  [[-415.58374, -376.13367, -371.98495, -381.375...   \n",
       "929  ambulance699.wav  [[-158.60631, -90.503716, -79.48663, -82.77847...   \n",
       "930  ambulance841.wav  [[-162.4736, -131.72069, -138.96619, -142.9946...   \n",
       "931  ambulance869.wav  [[-48.581665, -70.06544, -109.23434, -109.2458...   \n",
       "\n",
       "     labels  \n",
       "0         1  \n",
       "1         1  \n",
       "2         1  \n",
       "3         1  \n",
       "4         1  \n",
       "..      ...  \n",
       "927       1  \n",
       "928       1  \n",
       "929       1  \n",
       "930       1  \n",
       "931       1  \n",
       "\n",
       "[932 rows x 3 columns]"
      ]
     },
     "execution_count": 43,
     "metadata": {},
     "output_type": "execute_result"
    }
   ],
   "source": [
    "n_mfcc = 10\n",
    "num_kmeans = 5\n",
    "\n",
    "folder = \"Ambulance data\" # change relative path here to look for original Ambulance data .wav\n",
    "features=[] \n",
    "labels=[] \n",
    "files = os.listdir(f'../{folder}')\n",
    "for filename in files:\n",
    "    path = os.path.join('../', folder, filename)\n",
    "    y, sr = librosa.load(path)\n",
    "    data = librosa.feature.mfcc(y=y, sr=sr, n_mfcc=n_mfcc)\n",
    "    features.append(data)\n",
    "    labels.append(1)\n",
    "    \n",
    "# features = np.vstack(features)\n",
    "Amb_df = pd.DataFrame({'file_name': files, 'features': features, 'labels': labels})\n",
    "Amb_df"
   ]
  },
  {
   "cell_type": "code",
   "execution_count": 44,
   "metadata": {
    "tags": []
   },
   "outputs": [
    {
     "data": {
      "text/html": [
       "<div>\n",
       "<style scoped>\n",
       "    .dataframe tbody tr th:only-of-type {\n",
       "        vertical-align: middle;\n",
       "    }\n",
       "\n",
       "    .dataframe tbody tr th {\n",
       "        vertical-align: top;\n",
       "    }\n",
       "\n",
       "    .dataframe thead th {\n",
       "        text-align: right;\n",
       "    }\n",
       "</style>\n",
       "<table border=\"1\" class=\"dataframe\">\n",
       "  <thead>\n",
       "    <tr style=\"text-align: right;\">\n",
       "      <th></th>\n",
       "      <th>file_name</th>\n",
       "      <th>features</th>\n",
       "      <th>labels</th>\n",
       "    </tr>\n",
       "  </thead>\n",
       "  <tbody>\n",
       "    <tr>\n",
       "      <th>0</th>\n",
       "      <td>road363.wav</td>\n",
       "      <td>[[-117.625336, -75.7166, -72.183426, -76.36646...</td>\n",
       "      <td>0</td>\n",
       "    </tr>\n",
       "    <tr>\n",
       "      <th>1</th>\n",
       "      <td>road405.wav</td>\n",
       "      <td>[[-118.16633, -101.86252, -96.64369, -96.79473...</td>\n",
       "      <td>0</td>\n",
       "    </tr>\n",
       "    <tr>\n",
       "      <th>2</th>\n",
       "      <td>road411.wav</td>\n",
       "      <td>[[-447.87485, -468.4338, -487.31003, -481.5806...</td>\n",
       "      <td>0</td>\n",
       "    </tr>\n",
       "    <tr>\n",
       "      <th>3</th>\n",
       "      <td>road377.wav</td>\n",
       "      <td>[[-204.51591, -176.08685, -177.90091, -180.402...</td>\n",
       "      <td>0</td>\n",
       "    </tr>\n",
       "    <tr>\n",
       "      <th>4</th>\n",
       "      <td>road439.wav</td>\n",
       "      <td>[[-417.07068, -404.1843, -400.41617, -400.9253...</td>\n",
       "      <td>0</td>\n",
       "    </tr>\n",
       "    <tr>\n",
       "      <th>...</th>\n",
       "      <td>...</td>\n",
       "      <td>...</td>\n",
       "      <td>...</td>\n",
       "    </tr>\n",
       "    <tr>\n",
       "      <th>897</th>\n",
       "      <td>road352.wav</td>\n",
       "      <td>[[-219.25154, -180.95609, -173.18414, -178.065...</td>\n",
       "      <td>0</td>\n",
       "    </tr>\n",
       "    <tr>\n",
       "      <th>898</th>\n",
       "      <td>road434.wav</td>\n",
       "      <td>[[-411.4701, -382.49396, -386.93787, -387.9539...</td>\n",
       "      <td>0</td>\n",
       "    </tr>\n",
       "    <tr>\n",
       "      <th>899</th>\n",
       "      <td>road420.wav</td>\n",
       "      <td>[[-411.7272, -443.92148, -471.21045, -459.9034...</td>\n",
       "      <td>0</td>\n",
       "    </tr>\n",
       "    <tr>\n",
       "      <th>900</th>\n",
       "      <td>road346.wav</td>\n",
       "      <td>[[-173.90123, -141.68814, -142.28345, -137.957...</td>\n",
       "      <td>0</td>\n",
       "    </tr>\n",
       "    <tr>\n",
       "      <th>901</th>\n",
       "      <td>road408.wav</td>\n",
       "      <td>[[-64.590935, -32.878414, -34.9786, -38.31312,...</td>\n",
       "      <td>0</td>\n",
       "    </tr>\n",
       "  </tbody>\n",
       "</table>\n",
       "<p>902 rows × 3 columns</p>\n",
       "</div>"
      ],
      "text/plain": [
       "       file_name                                           features  labels\n",
       "0    road363.wav  [[-117.625336, -75.7166, -72.183426, -76.36646...       0\n",
       "1    road405.wav  [[-118.16633, -101.86252, -96.64369, -96.79473...       0\n",
       "2    road411.wav  [[-447.87485, -468.4338, -487.31003, -481.5806...       0\n",
       "3    road377.wav  [[-204.51591, -176.08685, -177.90091, -180.402...       0\n",
       "4    road439.wav  [[-417.07068, -404.1843, -400.41617, -400.9253...       0\n",
       "..           ...                                                ...     ...\n",
       "897  road352.wav  [[-219.25154, -180.95609, -173.18414, -178.065...       0\n",
       "898  road434.wav  [[-411.4701, -382.49396, -386.93787, -387.9539...       0\n",
       "899  road420.wav  [[-411.7272, -443.92148, -471.21045, -459.9034...       0\n",
       "900  road346.wav  [[-173.90123, -141.68814, -142.28345, -137.957...       0\n",
       "901  road408.wav  [[-64.590935, -32.878414, -34.9786, -38.31312,...       0\n",
       "\n",
       "[902 rows x 3 columns]"
      ]
     },
     "execution_count": 44,
     "metadata": {},
     "output_type": "execute_result"
    }
   ],
   "source": [
    "folder = \"Road Noises\" # change relative path here to look for original Road data .wav\n",
    "features=[] \n",
    "labels=[] \n",
    "files = os.listdir(f'../{folder}')\n",
    "for filename in files:\n",
    "    path = os.path.join('../', folder, filename)\n",
    "    y, sr = librosa.load(path, duration=7)\n",
    "    data = librosa.feature.mfcc(y=y, sr=sr, n_mfcc=n_mfcc)\n",
    "    features.append(data)\n",
    "    labels.append(0)\n",
    "    \n",
    "# features = np.vstack(features)\n",
    "RN_df = pd.DataFrame({'file_name': files, 'features': features, 'labels': labels})\n",
    "RN_df"
   ]
  },
  {
   "cell_type": "code",
   "execution_count": 45,
   "metadata": {
    "tags": []
   },
   "outputs": [
    {
     "data": {
      "text/html": [
       "<div>\n",
       "<style scoped>\n",
       "    .dataframe tbody tr th:only-of-type {\n",
       "        vertical-align: middle;\n",
       "    }\n",
       "\n",
       "    .dataframe tbody tr th {\n",
       "        vertical-align: top;\n",
       "    }\n",
       "\n",
       "    .dataframe thead th {\n",
       "        text-align: right;\n",
       "    }\n",
       "</style>\n",
       "<table border=\"1\" class=\"dataframe\">\n",
       "  <thead>\n",
       "    <tr style=\"text-align: right;\">\n",
       "      <th></th>\n",
       "      <th>file_name</th>\n",
       "      <th>features</th>\n",
       "      <th>labels</th>\n",
       "    </tr>\n",
       "  </thead>\n",
       "  <tbody>\n",
       "    <tr>\n",
       "      <th>0</th>\n",
       "      <td>ambulance864.wav</td>\n",
       "      <td>[[-219.48415, -196.20642, -198.86726, -203.495...</td>\n",
       "      <td>1</td>\n",
       "    </tr>\n",
       "    <tr>\n",
       "      <th>1</th>\n",
       "      <td>ambulance870.wav</td>\n",
       "      <td>[[-83.18829, -77.74606, -84.38651, -91.4631, -...</td>\n",
       "      <td>1</td>\n",
       "    </tr>\n",
       "    <tr>\n",
       "      <th>2</th>\n",
       "      <td>ambulance858.wav</td>\n",
       "      <td>[[-73.516685, -30.55424, -26.619394, -29.97802...</td>\n",
       "      <td>1</td>\n",
       "    </tr>\n",
       "    <tr>\n",
       "      <th>3</th>\n",
       "      <td>ambulance680.wav</td>\n",
       "      <td>[[-236.11478, -160.4977, -148.80777, -159.0704...</td>\n",
       "      <td>1</td>\n",
       "    </tr>\n",
       "    <tr>\n",
       "      <th>4</th>\n",
       "      <td>ambulance694.wav</td>\n",
       "      <td>[[-222.50467, -153.08594, -139.94177, -141.414...</td>\n",
       "      <td>1</td>\n",
       "    </tr>\n",
       "    <tr>\n",
       "      <th>...</th>\n",
       "      <td>...</td>\n",
       "      <td>...</td>\n",
       "      <td>...</td>\n",
       "    </tr>\n",
       "    <tr>\n",
       "      <th>1829</th>\n",
       "      <td>road352.wav</td>\n",
       "      <td>[[-219.25154, -180.95609, -173.18414, -178.065...</td>\n",
       "      <td>0</td>\n",
       "    </tr>\n",
       "    <tr>\n",
       "      <th>1830</th>\n",
       "      <td>road434.wav</td>\n",
       "      <td>[[-411.4701, -382.49396, -386.93787, -387.9539...</td>\n",
       "      <td>0</td>\n",
       "    </tr>\n",
       "    <tr>\n",
       "      <th>1831</th>\n",
       "      <td>road420.wav</td>\n",
       "      <td>[[-411.7272, -443.92148, -471.21045, -459.9034...</td>\n",
       "      <td>0</td>\n",
       "    </tr>\n",
       "    <tr>\n",
       "      <th>1832</th>\n",
       "      <td>road346.wav</td>\n",
       "      <td>[[-173.90123, -141.68814, -142.28345, -137.957...</td>\n",
       "      <td>0</td>\n",
       "    </tr>\n",
       "    <tr>\n",
       "      <th>1833</th>\n",
       "      <td>road408.wav</td>\n",
       "      <td>[[-64.590935, -32.878414, -34.9786, -38.31312,...</td>\n",
       "      <td>0</td>\n",
       "    </tr>\n",
       "  </tbody>\n",
       "</table>\n",
       "<p>1834 rows × 3 columns</p>\n",
       "</div>"
      ],
      "text/plain": [
       "             file_name                                           features  \\\n",
       "0     ambulance864.wav  [[-219.48415, -196.20642, -198.86726, -203.495...   \n",
       "1     ambulance870.wav  [[-83.18829, -77.74606, -84.38651, -91.4631, -...   \n",
       "2     ambulance858.wav  [[-73.516685, -30.55424, -26.619394, -29.97802...   \n",
       "3     ambulance680.wav  [[-236.11478, -160.4977, -148.80777, -159.0704...   \n",
       "4     ambulance694.wav  [[-222.50467, -153.08594, -139.94177, -141.414...   \n",
       "...                ...                                                ...   \n",
       "1829       road352.wav  [[-219.25154, -180.95609, -173.18414, -178.065...   \n",
       "1830       road434.wav  [[-411.4701, -382.49396, -386.93787, -387.9539...   \n",
       "1831       road420.wav  [[-411.7272, -443.92148, -471.21045, -459.9034...   \n",
       "1832       road346.wav  [[-173.90123, -141.68814, -142.28345, -137.957...   \n",
       "1833       road408.wav  [[-64.590935, -32.878414, -34.9786, -38.31312,...   \n",
       "\n",
       "      labels  \n",
       "0          1  \n",
       "1          1  \n",
       "2          1  \n",
       "3          1  \n",
       "4          1  \n",
       "...      ...  \n",
       "1829       0  \n",
       "1830       0  \n",
       "1831       0  \n",
       "1832       0  \n",
       "1833       0  \n",
       "\n",
       "[1834 rows x 3 columns]"
      ]
     },
     "execution_count": 45,
     "metadata": {},
     "output_type": "execute_result"
    }
   ],
   "source": [
    "# combine two df\n",
    "total_df = pd.concat([Amb_df, RN_df], ignore_index=True)\n",
    "total_df"
   ]
  },
  {
   "cell_type": "code",
   "execution_count": 46,
   "metadata": {
    "tags": []
   },
   "outputs": [],
   "source": [
    "# import data shuffled by Jerry\n",
    "train_df = pd.read_csv('../Data/processed_data/train.csv') #change path here for shuffled data\n",
    "train_file_name = train_df['filename']\n",
    "train_df = total_df[total_df['file_name'].isin(train_file_name)].set_index('file_name').loc[train_file_name].reset_index()\n",
    "\n",
    "\n",
    "test_df = pd.read_csv('../Data/processed_data/test.csv') #change path here for shuffled data\n",
    "test_file_name = test_df['filename']\n",
    "test_df = total_df[total_df['file_name'].isin(test_file_name)].set_index('file_name').loc[test_file_name].reset_index()\n",
    "\n",
    "val_df = pd.read_csv('../Data/processed_data/validation.csv') #change path here for shuffled data\n",
    "val_file_name = val_df['filename']\n",
    "val_df = total_df[total_df['file_name'].isin(val_file_name)].set_index('file_name').loc[val_file_name].reset_index()"
   ]
  },
  {
   "cell_type": "code",
   "execution_count": 47,
   "metadata": {
    "tags": []
   },
   "outputs": [],
   "source": [
    "# set up a numpy array for KNN encoding\n",
    "pre_knn = np.concatenate(train_df['features'].to_list(), axis=1)\n",
    "from sklearn.cluster import KMeans\n",
    "kmeans_models = []\n",
    "#set up KNN classifiers\n",
    "for i in range(len(pre_knn)):\n",
    "    kmeans = KMeans(n_clusters=num_kmeans, random_state=0, n_init=\"auto\").fit(pre_knn[i].reshape(-1, 1))\n",
    "    kmeans_models.append(kmeans)"
   ]
  },
  {
   "cell_type": "code",
   "execution_count": 48,
   "metadata": {
    "tags": []
   },
   "outputs": [],
   "source": [
    "def get_kmeans_array(feature, models=kmeans_models, num_kmeans = num_kmeans):\n",
    "    kmeans_array = []\n",
    "    for i, model in enumerate(kmeans_models):\n",
    "        prediction = model.predict(feature[i].reshape(-1, 1))\n",
    "        counter = []\n",
    "        for i in range(num_kmeans):\n",
    "            counter.append((prediction==i).sum())\n",
    "        kmeans_array.append(counter)\n",
    "    return np.array(kmeans_array)"
   ]
  },
  {
   "cell_type": "code",
   "execution_count": 49,
   "metadata": {
    "tags": []
   },
   "outputs": [
    {
     "data": {
      "text/plain": [
       "array([[122,   0,   1,   7,   0],\n",
       "       [  0, 119,   0,   2,   9],\n",
       "       [  0,  25,   0,   0, 105],\n",
       "       [ 20,  41,  69,   0,   0],\n",
       "       [  0,  19,  72,   5,  34],\n",
       "       [ 20,   8,  40,   0,  62],\n",
       "       [ 29,  28,   3,  33,  37],\n",
       "       [ 12,  54,  33,   5,  26],\n",
       "       [ 30,  20,  45,   9,  26],\n",
       "       [ 33,  25,  29,  42,   1]])"
      ]
     },
     "execution_count": 49,
     "metadata": {},
     "output_type": "execute_result"
    }
   ],
   "source": [
    "example = train_df.features[0]\n",
    "get_kmeans_array(example)"
   ]
  },
  {
   "cell_type": "code",
   "execution_count": 50,
   "metadata": {
    "tags": []
   },
   "outputs": [],
   "source": [
    "train_df['kmeans_array'] = train_df.features.apply(lambda x: get_kmeans_array(x))\n",
    "test_df['kmeans_array'] = test_df.features.apply(lambda x: get_kmeans_array(x))\n",
    "val_df['kmeans_array'] = val_df.features.apply(lambda x: get_kmeans_array(x))"
   ]
  },
  {
   "cell_type": "code",
   "execution_count": 51,
   "metadata": {
    "tags": []
   },
   "outputs": [],
   "source": [
    "X_train = train_df['kmeans_array']\n",
    "y_train = train_df['labels']\n",
    "X_test = test_df['kmeans_array']\n",
    "y_test = test_df['labels']\n",
    "X_val = val_df['kmeans_array']\n",
    "y_val = val_df['labels']"
   ]
  },
  {
   "cell_type": "code",
   "execution_count": 52,
   "metadata": {
    "tags": []
   },
   "outputs": [],
   "source": [
    "mfcc_max = np.array(X_train.to_list()).max(axis=0).max(axis=1)\n",
    "mfcc_min = np.array(X_train.to_list()).min(axis=0).min(axis=1)\n",
    "X_train_std = X_train.apply(lambda x: (x - mfcc_min[:,None]) / (mfcc_max[:,None] - mfcc_min[:,None]))\n",
    "X_test_std = X_test.apply(lambda x: (x - mfcc_min[:,None]) / (mfcc_max[:,None] - mfcc_min[:,None]))\n",
    "X_val_std = X_val.apply(lambda x: (x - mfcc_min[:,None]) / (mfcc_max[:,None] - mfcc_min[:,None]))"
   ]
  },
  {
   "cell_type": "code",
   "execution_count": 108,
   "metadata": {
    "tags": []
   },
   "outputs": [],
   "source": [
    "def build_model(input_shape=(n_mfcc,num_kmeans), n_classes=1):\n",
    "    \"\"\"Return a simple logistic regression model using the Keras Sequential API.\"\"\"\n",
    "  # Clear session and set a random seed for consistent behavior.\n",
    "    tf.keras.backend.clear_session()\n",
    "    tf.random.set_seed(1)\n",
    "\n",
    "    model = tf.keras.Sequential()\n",
    "    model.add(tf.keras.layers.LSTM(10,input_shape=input_shape,return_sequences=True))\n",
    "    model.add(tf.keras.layers.Dropout(0.2))\n",
    "    model.add(tf.keras.layers.LSTM(10))\n",
    "    model.add(tf.keras.layers.Dropout(0.2))\n",
    "    model.add(tf.keras.layers.Dense(5, activation='relu'))\n",
    "    model.add(tf.keras.layers.Dropout(0.2))\n",
    "\n",
    "    model.add(tf.keras.layers.Dense(\n",
    "        units=n_classes,\n",
    "        use_bias=True,\n",
    "        activation='sigmoid',\n",
    "        name='Output'\n",
    "        ))\n",
    "    model.summary()\n",
    "    \n",
    "\n",
    "    model.compile(\n",
    "        loss=tf.keras.losses.BinaryCrossentropy(),\n",
    "        optimizer=tf.keras.optimizers.legacy.Adam(learning_rate = 0.02),\n",
    "        metrics=[tf.keras.metrics.BinaryAccuracy()]\n",
    "    )\n",
    "\n",
    "    return model"
   ]
  },
  {
   "cell_type": "code",
   "execution_count": 109,
   "metadata": {
    "scrolled": true,
    "tags": []
   },
   "outputs": [
    {
     "name": "stdout",
     "output_type": "stream",
     "text": [
      "Model: \"sequential\"\n",
      "_________________________________________________________________\n",
      " Layer (type)                Output Shape              Param #   \n",
      "=================================================================\n",
      " lstm (LSTM)                 (None, 10, 10)            640       \n",
      "                                                                 \n",
      " dropout (Dropout)           (None, 10, 10)            0         \n",
      "                                                                 \n",
      " lstm_1 (LSTM)               (None, 10)                840       \n",
      "                                                                 \n",
      " dropout_1 (Dropout)         (None, 10)                0         \n",
      "                                                                 \n",
      " dense (Dense)               (None, 5)                 55        \n",
      "                                                                 \n",
      " dropout_2 (Dropout)         (None, 5)                 0         \n",
      "                                                                 \n",
      " Output (Dense)              (None, 1)                 6         \n",
      "                                                                 \n",
      "=================================================================\n",
      "Total params: 1541 (6.02 KB)\n",
      "Trainable params: 1541 (6.02 KB)\n",
      "Non-trainable params: 0 (0.00 Byte)\n",
      "_________________________________________________________________\n",
      "Epoch 1/15\n"
     ]
    },
    {
     "name": "stderr",
     "output_type": "stream",
     "text": [
      "2023-08-03 23:29:01.886426: I tensorflow/core/grappler/optimizers/custom_graph_optimizer_registry.cc:114] Plugin optimizer for device_type GPU is enabled.\n",
      "2023-08-03 23:29:02.134353: I tensorflow/core/grappler/optimizers/custom_graph_optimizer_registry.cc:114] Plugin optimizer for device_type GPU is enabled.\n",
      "2023-08-03 23:29:02.301743: I tensorflow/core/grappler/optimizers/custom_graph_optimizer_registry.cc:114] Plugin optimizer for device_type GPU is enabled.\n",
      "2023-08-03 23:29:02.811738: I tensorflow/core/grappler/optimizers/custom_graph_optimizer_registry.cc:114] Plugin optimizer for device_type GPU is enabled.\n",
      "2023-08-03 23:29:03.113949: I tensorflow/core/grappler/optimizers/custom_graph_optimizer_registry.cc:114] Plugin optimizer for device_type GPU is enabled.\n"
     ]
    },
    {
     "name": "stdout",
     "output_type": "stream",
     "text": [
      "26/26 [==============================] - ETA: 0s - loss: 0.6906 - binary_accuracy: 0.5051"
     ]
    },
    {
     "name": "stderr",
     "output_type": "stream",
     "text": [
      "2023-08-03 23:29:05.680387: I tensorflow/core/grappler/optimizers/custom_graph_optimizer_registry.cc:114] Plugin optimizer for device_type GPU is enabled.\n",
      "2023-08-03 23:29:05.773125: I tensorflow/core/grappler/optimizers/custom_graph_optimizer_registry.cc:114] Plugin optimizer for device_type GPU is enabled.\n",
      "2023-08-03 23:29:05.920631: I tensorflow/core/grappler/optimizers/custom_graph_optimizer_registry.cc:114] Plugin optimizer for device_type GPU is enabled.\n"
     ]
    },
    {
     "name": "stdout",
     "output_type": "stream",
     "text": [
      "26/26 [==============================] - 6s 126ms/step - loss: 0.6906 - binary_accuracy: 0.5051 - val_loss: 0.6487 - val_binary_accuracy: 0.5782\n",
      "Epoch 2/15\n",
      "26/26 [==============================] - 1s 34ms/step - loss: 0.5504 - binary_accuracy: 0.7249 - val_loss: 0.4549 - val_binary_accuracy: 0.8109\n",
      "Epoch 3/15\n",
      "26/26 [==============================] - 1s 25ms/step - loss: 0.3707 - binary_accuracy: 0.8667 - val_loss: 0.2952 - val_binary_accuracy: 0.8836\n",
      "Epoch 4/15\n",
      "26/26 [==============================] - 1s 21ms/step - loss: 0.2778 - binary_accuracy: 0.9002 - val_loss: 0.3193 - val_binary_accuracy: 0.8873\n",
      "Epoch 5/15\n",
      "26/26 [==============================] - 1s 19ms/step - loss: 0.2344 - binary_accuracy: 0.9182 - val_loss: 0.2693 - val_binary_accuracy: 0.9091\n",
      "Epoch 6/15\n",
      "26/26 [==============================] - 1s 22ms/step - loss: 0.2070 - binary_accuracy: 0.9314 - val_loss: 0.2320 - val_binary_accuracy: 0.9236\n",
      "Epoch 7/15\n",
      "26/26 [==============================] - 0s 17ms/step - loss: 0.2098 - binary_accuracy: 0.9322 - val_loss: 0.2800 - val_binary_accuracy: 0.9055\n",
      "Epoch 8/15\n",
      "26/26 [==============================] - 0s 17ms/step - loss: 0.1803 - binary_accuracy: 0.9314 - val_loss: 0.2465 - val_binary_accuracy: 0.8982\n",
      "Epoch 9/15\n",
      "26/26 [==============================] - 1s 20ms/step - loss: 0.2039 - binary_accuracy: 0.9314 - val_loss: 0.1989 - val_binary_accuracy: 0.9273\n",
      "Epoch 10/15\n",
      "26/26 [==============================] - 1s 34ms/step - loss: 0.1702 - binary_accuracy: 0.9454 - val_loss: 0.1747 - val_binary_accuracy: 0.9345\n",
      "Epoch 11/15\n",
      "26/26 [==============================] - 1s 21ms/step - loss: 0.1666 - binary_accuracy: 0.9431 - val_loss: 0.1886 - val_binary_accuracy: 0.9273\n",
      "Epoch 12/15\n",
      "26/26 [==============================] - 0s 18ms/step - loss: 0.1898 - binary_accuracy: 0.9252 - val_loss: 0.1860 - val_binary_accuracy: 0.9164\n",
      "Epoch 13/15\n",
      "26/26 [==============================] - 1s 19ms/step - loss: 0.1740 - binary_accuracy: 0.9462 - val_loss: 0.1682 - val_binary_accuracy: 0.9345\n",
      "Epoch 14/15\n",
      "26/26 [==============================] - 0s 18ms/step - loss: 0.1488 - binary_accuracy: 0.9493 - val_loss: 0.1902 - val_binary_accuracy: 0.9345\n",
      "Epoch 15/15\n",
      "26/26 [==============================] - 0s 18ms/step - loss: 0.1387 - binary_accuracy: 0.9556 - val_loss: 0.1504 - val_binary_accuracy: 0.9382\n"
     ]
    }
   ],
   "source": [
    "# build model\n",
    "model = build_model()\n",
    "\n",
    "# train model\n",
    "num_epochs = 15\n",
    "batch_size=50\n",
    "\n",
    "history = model.fit(\n",
    "                x=np.array(X_train_std.to_list()),\n",
    "                y=y_train,\n",
    "                epochs=num_epochs,\n",
    "                batch_size=batch_size,\n",
    "                validation_data = (np.array(X_val_std.to_list()), y_val),\n",
    "                verbose=1)\n",
    "\n"
   ]
  },
  {
   "cell_type": "code",
   "execution_count": 110,
   "metadata": {
    "tags": []
   },
   "outputs": [
    {
     "data": {
      "image/png": "[encoded data removed]",
      "text/plain": [
       "<Figure size 640x480 with 1 Axes>"
      ]
     },
     "metadata": {},
     "output_type": "display_data"
    },
    {
     "name": "stdout",
     "output_type": "stream",
     "text": [
      "9/9 [==============================] - 0s 41ms/step - loss: 0.1209 - binary_accuracy: 0.9565\n"
     ]
    }
   ],
   "source": [
    "train_accuracy = history.history['binary_accuracy']\n",
    "val_accuracy = history.history['val_binary_accuracy']\n",
    "plt.plot(train_accuracy, label='train_accuracy')\n",
    "plt.plot(val_accuracy, label='validation accuracy')\n",
    "plt.xlabel('Train epochs')\n",
    "plt.legend()\n",
    "plt.show()\n",
    "\n",
    "test_accuracy = model.evaluate(x=np.array(X_test_std.to_list()), y=y_test, verbose=1,\n",
    "                             return_dict=True)['binary_accuracy']"
   ]
  },
  {
   "cell_type": "code",
   "execution_count": 111,
   "metadata": {},
   "outputs": [
    {
     "name": "stderr",
     "output_type": "stream",
     "text": [
      "2023-08-03 23:29:21.613965: I tensorflow/core/grappler/optimizers/custom_graph_optimizer_registry.cc:114] Plugin optimizer for device_type GPU is enabled.\n",
      "2023-08-03 23:29:21.697433: I tensorflow/core/grappler/optimizers/custom_graph_optimizer_registry.cc:114] Plugin optimizer for device_type GPU is enabled.\n"
     ]
    },
    {
     "name": "stdout",
     "output_type": "stream",
     "text": [
      " 1/41 [..............................] - ETA: 22s"
     ]
    },
    {
     "name": "stderr",
     "output_type": "stream",
     "text": [
      "2023-08-03 23:29:21.842082: I tensorflow/core/grappler/optimizers/custom_graph_optimizer_registry.cc:114] Plugin optimizer for device_type GPU is enabled.\n"
     ]
    },
    {
     "name": "stdout",
     "output_type": "stream",
     "text": [
      "41/41 [==============================] - 1s 11ms/step\n",
      "9/9 [==============================] - 0s 12ms/step\n",
      "9/9 [==============================] - 0s 12ms/step\n",
      "Training, misclassified examples: 51\n",
      "Training, prediction accuracy: 0.960\n",
      "------------\n",
      "Training, misclassified examples: 17\n",
      "Training, prediction accuracy: 0.938\n",
      "------------\n",
      "Test, misclassified examples: 12\n",
      "Test, prediction accuracy: 0.957\n"
     ]
    },
    {
     "data": {
      "image/png": "[encoded data removed]",
      "text/plain": [
       "<Figure size 640x480 with 2 Axes>"
      ]
     },
     "metadata": {},
     "output_type": "display_data"
    }
   ],
   "source": [
    "y_train_pred = model.predict(x=np.array(X_train_std.to_list())).flatten()\n",
    "\n",
    "# apply the threshold function to create a 0, 1 outcome\n",
    "y_train_pred = np.where(y_train_pred>=0.5, 1, 0)\n",
    "\n",
    "\n",
    "y_validation_pred = model.predict(x=np.array(X_val_std.to_list())).flatten()\n",
    "y_validation_pred = np.where(y_validation_pred>=0.5, 1, 0)\n",
    "\n",
    "\n",
    "# run the trained model on the test data (the model outputs probabilities)\n",
    "y_pred_prob = model.predict(x=np.array(X_test_std.to_list())).flatten()\n",
    "# apply the threshold function to create a 0, 1 outcome\n",
    "y_pred = np.where(y_pred_prob>=0.5, 1, 0)\n",
    "\n",
    "\n",
    "# print accuracy for train\n",
    "print('Training, misclassified examples: %d' % (y_train != y_train_pred).sum())\n",
    "error_train_tf = (y_train != y_train_pred).sum()/len(y_train_pred)\n",
    "print('Training, prediction accuracy: %.3f'% (1-error_train_tf))\n",
    "\n",
    "print('------------')\n",
    "print('Training, misclassified examples: %d' % (y_val != y_validation_pred).sum())\n",
    "error_train_tf = (y_val != y_validation_pred).sum()/len(y_validation_pred)\n",
    "print('Training, prediction accuracy: %.3f'% (1-error_train_tf))\n",
    "\n",
    "print('------------')\n",
    "\n",
    "# print accuracy for test\n",
    "\n",
    "print('Test, misclassified examples: %d' % (y_test != y_pred).sum())\n",
    "error_test_tf = (y_test != y_pred).sum()/len(y_pred)\n",
    "print('Test, prediction accuracy: %.3f'% (1-error_test_tf))\n",
    "\n",
    "confusion_matrix = pd.crosstab(y_pred,y_test, rownames=['Prediction'], colnames=['Label'],margins = True)\n",
    "sns.heatmap(confusion_matrix, annot=True,fmt='g')\n",
    "pass"
   ]
  },
  {
   "cell_type": "code",
   "execution_count": 112,
   "metadata": {},
   "outputs": [
    {
     "name": "stdout",
     "output_type": "stream",
     "text": [
      "Precision score: 0.960\n",
      "Recall score: 0.955\n",
      "F1 score 0.956\n"
     ]
    }
   ],
   "source": [
    "# Looking at precision, recall and F1 scores\n",
    "print('Precision score: %.3f' % precision_score(y_test, y_pred, average='macro'))\n",
    "print('Recall score: %.3f' % recall_score(y_test, y_pred, average='macro'))\n",
    "print('F1 score %.3f' % f1_score(y_test, y_pred, average='macro'))"
   ]
  },
  {
   "cell_type": "code",
   "execution_count": 113,
   "metadata": {},
   "outputs": [
    {
     "name": "stdout",
     "output_type": "stream",
     "text": [
      "\n",
      " Classification report for k=5:\n",
      "               precision    recall  f1-score   support\n",
      "\n",
      "           0       0.99      0.92      0.95       132\n",
      "           1       0.93      0.99      0.96       144\n",
      "\n",
      "    accuracy                           0.96       276\n",
      "   macro avg       0.96      0.95      0.96       276\n",
      "weighted avg       0.96      0.96      0.96       276\n",
      "\n"
     ]
    }
   ],
   "source": [
    "# Looking at the classification report\n",
    "print('\\n Classification report for k=5:\\n', classification_report(y_test, y_pred))"
   ]
  },
  {
   "cell_type": "code",
   "execution_count": 115,
   "metadata": {},
   "outputs": [
    {
     "data": {
      "image/png": "[encoded data removed]",
      "text/plain": [
       "<Figure size 640x480 with 1 Axes>"
      ]
     },
     "metadata": {},
     "output_type": "display_data"
    }
   ],
   "source": [
    "from sklearn.metrics import PrecisionRecallDisplay\n",
    "\n",
    "display = PrecisionRecallDisplay.from_predictions(\n",
    "    y_test, y_pred_prob, name=\"K-means_RNN\"\n",
    ")\n",
    "_ = display.ax_.set_title(\"2-class Precision-Recall curve\")"
   ]
  },
  {
   "cell_type": "code",
   "execution_count": null,
   "metadata": {},
   "outputs": [],
   "source": [
    "pd.DataFrame(y_pred_prob).to_csv('../Data/model_predictions/KmeanRNN_model.csv')"
   ]
  }
 ],
 "metadata": {
  "kernelspec": {
   "display_name": "Python 3.10 (tensorflow)",
   "language": "python",
   "name": "tensorflow"
  },
  "language_info": {
   "codemirror_mode": {
    "name": "ipython",
    "version": 3
   },
   "file_extension": ".py",
   "mimetype": "text/x-python",
   "name": "python",
   "nbconvert_exporter": "python",
   "pygments_lexer": "ipython3",
   "version": "3.10.12"
  }
 },
 "nbformat": 4,
 "nbformat_minor": 4
}
